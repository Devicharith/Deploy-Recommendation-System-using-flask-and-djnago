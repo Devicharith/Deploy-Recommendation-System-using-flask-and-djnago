{
  "nbformat": 4,
  "nbformat_minor": 0,
  "metadata": {
    "colab": {
      "name": "Untitled12.ipynb",
      "provenance": []
    },
    "kernelspec": {
      "name": "python3",
      "display_name": "Python 3"
    },
    "language_info": {
      "name": "python"
    }
  },
  "cells": [
    {
      "cell_type": "code",
      "metadata": {
        "id": "onkjuL7_jfpG"
      },
      "source": [
        "import pandas  as pd"
      ],
      "execution_count": 1,
      "outputs": []
    },
    {
      "cell_type": "code",
      "metadata": {
        "colab": {
          "base_uri": "https://localhost:8080/"
        },
        "id": "AQWX-O4BrKe5",
        "outputId": "64e15acf-94cd-47ff-be8c-1e84d3dbf124"
      },
      "source": [
        "path ='/content/drive/MyDrive/amazon_reviews_us_Musical_Instruments_v1_00.tsv.gz'\n",
        "df = pd.read_table(path, error_bad_lines=False)"
      ],
      "execution_count": 2,
      "outputs": [
        {
          "output_type": "stream",
          "text": [
            "b'Skipping line 5782: expected 15 fields, saw 22\\nSkipping line 31979: expected 15 fields, saw 22\\nSkipping line 32408: expected 15 fields, saw 22\\nSkipping line 45709: expected 15 fields, saw 22\\nSkipping line 64585: expected 15 fields, saw 22\\n'\n",
            "b'Skipping line 115742: expected 15 fields, saw 22\\nSkipping line 125537: expected 15 fields, saw 22\\nSkipping line 127580: expected 15 fields, saw 22\\nSkipping line 128696: expected 15 fields, saw 22\\n'\n",
            "b'Skipping line 143851: expected 15 fields, saw 22\\nSkipping line 147069: expected 15 fields, saw 22\\nSkipping line 149233: expected 15 fields, saw 22\\nSkipping line 167536: expected 15 fields, saw 22\\nSkipping line 168535: expected 15 fields, saw 22\\nSkipping line 171659: expected 15 fields, saw 22\\nSkipping line 184533: expected 15 fields, saw 22\\nSkipping line 184624: expected 15 fields, saw 22\\nSkipping line 184908: expected 15 fields, saw 22\\n'\n",
            "b'Skipping line 219150: expected 15 fields, saw 22\\nSkipping line 223178: expected 15 fields, saw 22\\nSkipping line 234333: expected 15 fields, saw 22\\nSkipping line 256242: expected 15 fields, saw 22\\n'\n",
            "b'Skipping line 268157: expected 15 fields, saw 22\\nSkipping line 276191: expected 15 fields, saw 22\\nSkipping line 277091: expected 15 fields, saw 22\\nSkipping line 288516: expected 15 fields, saw 22\\nSkipping line 289901: expected 15 fields, saw 22\\nSkipping line 292922: expected 15 fields, saw 22\\nSkipping line 308964: expected 15 fields, saw 22\\nSkipping line 325233: expected 15 fields, saw 22\\n'\n",
            "b'Skipping line 354051: expected 15 fields, saw 22\\nSkipping line 360552: expected 15 fields, saw 22\\nSkipping line 362489: expected 15 fields, saw 22\\nSkipping line 383798: expected 15 fields, saw 22\\nSkipping line 392390: expected 15 fields, saw 22\\n'\n",
            "b'Skipping line 456105: expected 15 fields, saw 22\\n'\n"
          ],
          "name": "stderr"
        }
      ]
    },
    {
      "cell_type": "code",
      "metadata": {
        "id": "k5LEYa-1GIbW"
      },
      "source": [
        "length = 20000"
      ],
      "execution_count": 4,
      "outputs": []
    },
    {
      "cell_type": "code",
      "metadata": {
        "id": "ru8twAbitz4Q"
      },
      "source": [
        "import collections\n",
        "itemsPerUser = collections.defaultdict(list)\n",
        "usersPerItem = collections.defaultdict(list)\n",
        "\n",
        "for i in range(length):\n",
        "  user,item = df['customer_id'][i],df['product_id'][i]\n",
        "  itemsPerUser[user].append((item,i))\n",
        "  usersPerItem[item].append((user,i))\n"
      ],
      "execution_count": 5,
      "outputs": []
    },
    {
      "cell_type": "code",
      "metadata": {
        "id": "EA4MhzpKuZAF"
      },
      "source": [
        "average = sum([df['star_rating'][i] for i in range(length)])/length"
      ],
      "execution_count": 6,
      "outputs": []
    },
    {
      "cell_type": "code",
      "metadata": {
        "colab": {
          "base_uri": "https://localhost:8080/"
        },
        "id": "xjjLxxXeunqI",
        "outputId": "0cd6acbc-df40-47ad-9c19-6edc9897c7ad"
      },
      "source": [
        "average"
      ],
      "execution_count": 7,
      "outputs": [
        {
          "output_type": "execute_result",
          "data": {
            "text/plain": [
              "4.28765"
            ]
          },
          "metadata": {
            "tags": []
          },
          "execution_count": 7
        }
      ]
    },
    {
      "cell_type": "markdown",
      "metadata": {
        "id": "EXdjlKyP5ZC2"
      },
      "source": [
        "Jaccards Similarity"
      ]
    },
    {
      "cell_type": "code",
      "metadata": {
        "id": "KUBzGx7AxS-3"
      },
      "source": [
        "def jaccards_similarity(a,b):\n",
        "  a = set(i for i,j in a)\n",
        "  b = set(i for i,j in b)\n",
        "  return len(a.intersection(b))/len(a.union(b))"
      ],
      "execution_count": 8,
      "outputs": []
    },
    {
      "cell_type": "markdown",
      "metadata": {
        "id": "HTrC6gA05WYE"
      },
      "source": [
        "Items - Items"
      ]
    },
    {
      "cell_type": "code",
      "metadata": {
        "id": "r9c3q5pmrTZX"
      },
      "source": [
        "# Find Similarity between items\n",
        "def PredictRating(user,item):\n",
        "  rating = []\n",
        "  similarity = []\n",
        "  for i in itemsPerUser[user]:\n",
        "    if i[0]!=item:\n",
        "      rating.append(df['star_rating'][i[1]])\n",
        "      similarity.append( jaccards_similarity(usersPerItem[item],usersPerItem[i[0]]))\n",
        "  \n",
        "  if sum(similarity)>0:\n",
        "    weightedRates = sum([x*y for x,y in zip(rating,similarity)])\n",
        "    return weightedRates/sum(similarity)\n",
        "  else:\n",
        "    return average"
      ],
      "execution_count": 9,
      "outputs": []
    },
    {
      "cell_type": "code",
      "metadata": {
        "colab": {
          "base_uri": "https://localhost:8080/"
        },
        "id": "X0h5qCYYyYHV",
        "outputId": "0a1a52ed-0494-482b-b034-e9d06ab72a1d"
      },
      "source": [
        "PredictRating(df['customer_id'][1],df['product_id'][1])"
      ],
      "execution_count": 10,
      "outputs": [
        {
          "output_type": "execute_result",
          "data": {
            "text/plain": [
              "5.000000000000001"
            ]
          },
          "metadata": {
            "tags": []
          },
          "execution_count": 10
        }
      ]
    },
    {
      "cell_type": "code",
      "metadata": {
        "id": "IhiO2CqAzIZE"
      },
      "source": [
        "def MSE(predictions,label):\n",
        "  error = sum([(x-y)**2 for x,y in zip(predictions,label)])\n",
        "  return error/len(labels)"
      ],
      "execution_count": 11,
      "outputs": []
    },
    {
      "cell_type": "code",
      "metadata": {
        "id": "4PPnFhDRzo9U"
      },
      "source": [
        "labels = [df['star_rating'][i] for i in range(20000)]"
      ],
      "execution_count": 12,
      "outputs": []
    },
    {
      "cell_type": "code",
      "metadata": {
        "id": "iK6QMpCWzw_p"
      },
      "source": [
        "ave = [average for i in range(20000)]"
      ],
      "execution_count": 14,
      "outputs": []
    },
    {
      "cell_type": "code",
      "metadata": {
        "id": "9vHurDDzz21X"
      },
      "source": [
        "simi = [ PredictRating( df['customer_id'][i] , df['product_id'][i] )  for i in range(20000)]"
      ],
      "execution_count": 15,
      "outputs": []
    },
    {
      "cell_type": "markdown",
      "metadata": {
        "id": "UFfGrvQm5Rmk"
      },
      "source": [
        "Mean Square Error"
      ]
    },
    {
      "cell_type": "code",
      "metadata": {
        "colab": {
          "base_uri": "https://localhost:8080/"
        },
        "id": "7d9_Ci0L0dUg",
        "outputId": "1945eb3c-5ac3-46b5-f4a0-3bf924b3b974"
      },
      "source": [
        "MSE(ave,labels)"
      ],
      "execution_count": 16,
      "outputs": [
        {
          "output_type": "execute_result",
          "data": {
            "text/plain": [
              "1.479407477499707"
            ]
          },
          "metadata": {
            "tags": []
          },
          "execution_count": 16
        }
      ]
    },
    {
      "cell_type": "code",
      "metadata": {
        "colab": {
          "base_uri": "https://localhost:8080/"
        },
        "id": "JHRqZ3lA0hKx",
        "outputId": "cc39aff8-905c-49ab-8a1c-25b627f796da"
      },
      "source": [
        "MSE(simi,labels)"
      ],
      "execution_count": 17,
      "outputs": [
        {
          "output_type": "execute_result",
          "data": {
            "text/plain": [
              "1.5575564547876732"
            ]
          },
          "metadata": {
            "tags": []
          },
          "execution_count": 17
        }
      ]
    },
    {
      "cell_type": "markdown",
      "metadata": {
        "id": "hUOsi2qP5OQp"
      },
      "source": [
        "Mean Error\n"
      ]
    },
    {
      "cell_type": "code",
      "metadata": {
        "id": "mQKZ-C2B23EK"
      },
      "source": [
        "def ME(predictions,label):\n",
        "  error = sum([abs(x-y) for x,y in zip(predictions,label)])\n",
        "  return error/len(labels)"
      ],
      "execution_count": 18,
      "outputs": []
    },
    {
      "cell_type": "code",
      "metadata": {
        "colab": {
          "base_uri": "https://localhost:8080/"
        },
        "id": "DFacpUUT29BW",
        "outputId": "4e27f0d1-e491-4df1-8593-795e84dc09e6"
      },
      "source": [
        "ME(simi,labels)"
      ],
      "execution_count": 19,
      "outputs": [
        {
          "output_type": "execute_result",
          "data": {
            "text/plain": [
              "0.8646944145347748"
            ]
          },
          "metadata": {
            "tags": []
          },
          "execution_count": 19
        }
      ]
    },
    {
      "cell_type": "code",
      "metadata": {
        "colab": {
          "base_uri": "https://localhost:8080/"
        },
        "id": "NOhT_g-u3DSG",
        "outputId": "78d68f21-37a5-4676-e38f-0b505bdf6a88"
      },
      "source": [
        "ME(ave,labels)"
      ],
      "execution_count": 20,
      "outputs": [
        {
          "output_type": "execute_result",
          "data": {
            "text/plain": [
              "0.9427952250000213"
            ]
          },
          "metadata": {
            "tags": []
          },
          "execution_count": 20
        }
      ]
    },
    {
      "cell_type": "markdown",
      "metadata": {
        "id": "8EtnsaTD-Tku"
      },
      "source": [
        "User-User"
      ]
    },
    {
      "cell_type": "code",
      "metadata": {
        "id": "GgIZ7I8c5HO7"
      },
      "source": [
        "#Find similarity between Users\n",
        "def PredictRating1(user,item):\n",
        "  rating = []\n",
        "  similarity  = []\n",
        "  for i in usersPerItem[item]:\n",
        "    if i[0]!=user:\n",
        "        rating.append(df['star_rating'][i[1]])\n",
        "        similarity.append(jaccards_similarity(itemsPerUser[i[0]],itemsPerUser[user]))\n",
        "  \n",
        "  if sum(similarity)>0:\n",
        "    weightedRate = sum([x*y for x,y in zip(rating,similarity)])\n",
        "    return weightedRate/sum(similarity)\n",
        "  else:\n",
        "    return average"
      ],
      "execution_count": 21,
      "outputs": []
    },
    {
      "cell_type": "code",
      "metadata": {
        "colab": {
          "base_uri": "https://localhost:8080/"
        },
        "id": "W--KJzkZ979B",
        "outputId": "96981e8b-879a-4a2d-efbd-5dc913683253"
      },
      "source": [
        "PredictRating1(df['customer_id'][1],df['product_id'][1])"
      ],
      "execution_count": 22,
      "outputs": [
        {
          "output_type": "execute_result",
          "data": {
            "text/plain": [
              "4.0"
            ]
          },
          "metadata": {
            "tags": []
          },
          "execution_count": 22
        }
      ]
    },
    {
      "cell_type": "code",
      "metadata": {
        "id": "3jp57FZ_-W8a"
      },
      "source": [
        "simi1 = [ PredictRating1( df['customer_id'][i] , df['product_id'][i] )  for i in range(20000)]"
      ],
      "execution_count": 23,
      "outputs": []
    },
    {
      "cell_type": "code",
      "metadata": {
        "colab": {
          "base_uri": "https://localhost:8080/"
        },
        "id": "ykIx4NVAG8rp",
        "outputId": "0d88aa9a-5df5-44e3-b9c9-640474a04db6"
      },
      "source": [
        "MSE(simi1,labels)"
      ],
      "execution_count": 25,
      "outputs": [
        {
          "output_type": "execute_result",
          "data": {
            "text/plain": [
              "1.6679945305218684"
            ]
          },
          "metadata": {
            "tags": []
          },
          "execution_count": 25
        }
      ]
    },
    {
      "cell_type": "code",
      "metadata": {
        "colab": {
          "base_uri": "https://localhost:8080/"
        },
        "id": "L-6onG1bG_SK",
        "outputId": "b525d3eb-081f-4234-bf3f-8f50fb4c9b11"
      },
      "source": [
        "ME(simi1,labels)"
      ],
      "execution_count": 26,
      "outputs": [
        {
          "output_type": "execute_result",
          "data": {
            "text/plain": [
              "0.9194358498154399"
            ]
          },
          "metadata": {
            "tags": []
          },
          "execution_count": 26
        }
      ]
    },
    {
      "cell_type": "code",
      "metadata": {
        "id": "sXCbJn3PHHDs"
      },
      "source": [
        ""
      ],
      "execution_count": null,
      "outputs": []
    }
  ]
}