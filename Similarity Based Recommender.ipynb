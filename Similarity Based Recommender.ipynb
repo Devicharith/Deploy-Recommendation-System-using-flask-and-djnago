{
  "nbformat": 4,
  "nbformat_minor": 0,
  "metadata": {
    "colab": {
      "name": "Untitled11.ipynb",
      "provenance": [],
      "authorship_tag": "ABX9TyOMIFG9cPW04Fbemr2DOFj9",
      "include_colab_link": true
    },
    "kernelspec": {
      "name": "python3",
      "display_name": "Python 3"
    },
    "language_info": {
      "name": "python"
    }
  },
  "cells": [
    {
      "cell_type": "markdown",
      "metadata": {
        "id": "view-in-github",
        "colab_type": "text"
      },
      "source": [
        "<a href=\"https://colab.research.google.com/github/Devicharith/Deploy-Recommendation-System-using-flask-and-djnago/blob/main/Similarity%20Based%20Recommender.ipynb\" target=\"_parent\"><img src=\"https://colab.research.google.com/assets/colab-badge.svg\" alt=\"Open In Colab\"/></a>"
      ]
    },
    {
      "cell_type": "code",
      "metadata": {
        "id": "JFMSZmCI56lB"
      },
      "source": [
        "import pandas as pd"
      ],
      "execution_count": 35,
      "outputs": []
    },
    {
      "cell_type": "code",
      "metadata": {
        "id": "_rkUNP3c7LI-"
      },
      "source": [
        "path ='/content/drive/MyDrive/amazon_reviews_us_Musical_Instruments_v1_00.tsv.gz'"
      ],
      "execution_count": 36,
      "outputs": []
    },
    {
      "cell_type": "code",
      "metadata": {
        "colab": {
          "base_uri": "https://localhost:8080/"
        },
        "id": "mHXqC0fcAq-E",
        "outputId": "08fc6e53-f53e-4454-e26d-9091e71a6861"
      },
      "source": [
        "df = pd.read_table(path, error_bad_lines=False)"
      ],
      "execution_count": 37,
      "outputs": [
        {
          "output_type": "stream",
          "text": [
            "b'Skipping line 5782: expected 15 fields, saw 22\\nSkipping line 31979: expected 15 fields, saw 22\\nSkipping line 32408: expected 15 fields, saw 22\\nSkipping line 45709: expected 15 fields, saw 22\\nSkipping line 64585: expected 15 fields, saw 22\\n'\n",
            "b'Skipping line 115742: expected 15 fields, saw 22\\nSkipping line 125537: expected 15 fields, saw 22\\nSkipping line 127580: expected 15 fields, saw 22\\nSkipping line 128696: expected 15 fields, saw 22\\n'\n",
            "b'Skipping line 143851: expected 15 fields, saw 22\\nSkipping line 147069: expected 15 fields, saw 22\\nSkipping line 149233: expected 15 fields, saw 22\\nSkipping line 167536: expected 15 fields, saw 22\\nSkipping line 168535: expected 15 fields, saw 22\\nSkipping line 171659: expected 15 fields, saw 22\\nSkipping line 184533: expected 15 fields, saw 22\\nSkipping line 184624: expected 15 fields, saw 22\\nSkipping line 184908: expected 15 fields, saw 22\\n'\n",
            "b'Skipping line 219150: expected 15 fields, saw 22\\nSkipping line 223178: expected 15 fields, saw 22\\nSkipping line 234333: expected 15 fields, saw 22\\nSkipping line 256242: expected 15 fields, saw 22\\n'\n",
            "b'Skipping line 268157: expected 15 fields, saw 22\\nSkipping line 276191: expected 15 fields, saw 22\\nSkipping line 277091: expected 15 fields, saw 22\\nSkipping line 288516: expected 15 fields, saw 22\\nSkipping line 289901: expected 15 fields, saw 22\\nSkipping line 292922: expected 15 fields, saw 22\\nSkipping line 308964: expected 15 fields, saw 22\\nSkipping line 325233: expected 15 fields, saw 22\\n'\n",
            "b'Skipping line 354051: expected 15 fields, saw 22\\nSkipping line 360552: expected 15 fields, saw 22\\nSkipping line 362489: expected 15 fields, saw 22\\nSkipping line 383798: expected 15 fields, saw 22\\nSkipping line 392390: expected 15 fields, saw 22\\n'\n",
            "b'Skipping line 456105: expected 15 fields, saw 22\\n'\n"
          ],
          "name": "stderr"
        }
      ]
    },
    {
      "cell_type": "code",
      "metadata": {
        "id": "NUvzn008C8ah"
      },
      "source": [
        "import collections\n",
        "items_per_user = collections.defaultdict(set)\n",
        "users_per_item = collections.defaultdict(set)\n",
        "items = {}\n",
        "\n",
        "for i in range(len(df)):\n",
        "  user,item = df['customer_id'][i],df['product_id'][i]\n",
        "  items_per_user[user].add(item)\n",
        "  users_per_item[item].add(user)\n",
        "  items[item] = df['product_title'][i]\n"
      ],
      "execution_count": 38,
      "outputs": []
    },
    {
      "cell_type": "code",
      "metadata": {
        "id": "Hjj_itffFyL4"
      },
      "source": [
        "def jaccard_similarity(s1,s2):\n",
        "  return len(s1.intersection(s2))/len(s1.union(s2))"
      ],
      "execution_count": 51,
      "outputs": []
    },
    {
      "cell_type": "code",
      "metadata": {
        "id": "t_OUg1zFIK3o"
      },
      "source": [
        "# High-Complexity\n",
        "def  mostsimilar(i):\n",
        "        sim = []\n",
        "        for item in users_per_item.keys():\n",
        "          if i!=item:\n",
        "            deg =  jaccard_similarity(users_per_item[i],users_per_item[item])\n",
        "            sim.append((deg,item))\n",
        "        sim.sort(reverse=True)\n",
        "        return sim[:10]"
      ],
      "execution_count": 52,
      "outputs": []
    },
    {
      "cell_type": "code",
      "metadata": {
        "colab": {
          "base_uri": "https://localhost:8080/"
        },
        "id": "a4SvFgJCNrsJ",
        "outputId": "06435e6c-c290-4001-ee6e-5206793bddc9"
      },
      "source": [
        "ans = mostsimilar(df['product_id'][2])\n",
        "ans"
      ],
      "execution_count": 56,
      "outputs": [
        {
          "output_type": "execute_result",
          "data": {
            "text/plain": [
              "[(0.028446389496717725, 'B00006I5SD'),\n",
              " (0.01694915254237288, 'B00006I5SB'),\n",
              " (0.015065913370998116, 'B000AJR482'),\n",
              " (0.014204545454545454, 'B00E7MVP3S'),\n",
              " (0.008955223880597015, 'B001255YL2'),\n",
              " (0.008849557522123894, 'B003EIRVO8'),\n",
              " (0.008333333333333333, 'B0015VEZ22'),\n",
              " (0.00821917808219178, 'B00006I5UH'),\n",
              " (0.008021390374331552, 'B00008BWM7'),\n",
              " (0.007668711656441718, 'B000H2BC4E')]"
            ]
          },
          "metadata": {
            "tags": []
          },
          "execution_count": 56
        }
      ]
    },
    {
      "cell_type": "code",
      "metadata": {
        "colab": {
          "base_uri": "https://localhost:8080/"
        },
        "id": "VUJfCre1PFAD",
        "outputId": "26d119e8-9afc-471a-e013-4064b0d4f773"
      },
      "source": [
        "print('Recommend itmes for '+ items[df['product_id'][2]])\n",
        "for i in range(len(ans)):\n",
        "  print(str(i+1)+ ': ' +items[ans[i][1]])"
      ],
      "execution_count": 66,
      "outputs": [
        {
          "output_type": "stream",
          "text": [
            "Recommend itmes for AudioQuest LP record clean brush\n",
            "1: Shure SFG-2 Stylus Tracking Force Gauge\n",
            "2: Shure M97xE High-Performance Magnetic Phono Cartridge\n",
            "3: ART Pro Audio DJPRE II Phono Turntable Preamplifier\n",
            "4: Signstek Blue LCD Backlight Digital Long-Playing LP Turntable Stylus Force Scale Gauge Tester\n",
            "5: Audio Technica AT120E/T Standard Mount Phono Cartridge\n",
            "6: Technics: 45 Adaptor for Technics 1200 (SFWE010)\n",
            "7: GruvGlide GRUVGLIDE DJ Package\n",
            "8: STANTON MAGNETICS Record Cleaner Kit\n",
            "9: Shure M97xE High-Performance Magnetic Phono Cartridge\n",
            "10: Behringer PP400 Ultra Compact Phono Preamplifier\n"
          ],
          "name": "stdout"
        }
      ]
    },
    {
      "cell_type": "markdown",
      "metadata": {
        "id": "j0pcGGdWRdLF"
      },
      "source": [
        "Reducing Time complexity"
      ]
    },
    {
      "cell_type": "code",
      "metadata": {
        "id": "9mITvsofQNiV"
      },
      "source": [
        "def  mostsimilar(i):\n",
        "        sim = []\n",
        "        sameUserItems = set()\n",
        "        for i in users_per_item[i]:\n",
        "           sameUserItems.add(items_per_user[i])\n",
        "        for item in  sameUserItems:\n",
        "          if i!=item:\n",
        "            deg =  jaccard_similarity(users_per_item[i],users_per_item[item])\n",
        "            sim.append((deg,item))\n",
        "        sim.sort(reverse=True)\n",
        "        return sim[:10]"
      ],
      "execution_count": null,
      "outputs": []
    },
    {
      "cell_type": "code",
      "metadata": {
        "colab": {
          "base_uri": "https://localhost:8080/"
        },
        "id": "jZlMPBH6SUou",
        "outputId": "baefd00a-71eb-4ac9-a5be-80813c602162"
      },
      "source": [
        "mostsimilar(df['product_id'][3])"
      ],
      "execution_count": 67,
      "outputs": [
        {
          "output_type": "execute_result",
          "data": {
            "text/plain": [
              "[(0.06521739130434782, 'B007IE5EN4'),\n",
              " (0.05405405405405406, 'B00E0NQTPS'),\n",
              " (0.046875, 'B0057IVGVM'),\n",
              " (0.04081632653061224, 'B00I0YOB9O'),\n",
              " (0.04, 'B0014MYTJ6'),\n",
              " (0.038461538461538464, 'B0014N0D40'),\n",
              " (0.03076923076923077, 'B0002F6SF4'),\n",
              " (0.02857142857142857, 'B00LG9X15K'),\n",
              " (0.02857142857142857, 'B00KRYAAPY'),\n",
              " (0.02857142857142857, 'B00IU8LBBG')]"
            ]
          },
          "metadata": {
            "tags": []
          },
          "execution_count": 67
        }
      ]
    }
  ]
}