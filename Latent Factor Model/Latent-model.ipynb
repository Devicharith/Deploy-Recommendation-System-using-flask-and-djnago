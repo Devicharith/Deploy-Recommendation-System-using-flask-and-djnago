{
  "nbformat": 4,
  "nbformat_minor": 0,
  "metadata": {
    "colab": {
      "name": "Untitled13.ipynb",
      "provenance": []
    },
    "kernelspec": {
      "name": "python3",
      "display_name": "Python 3"
    },
    "language_info": {
      "name": "python"
    }
  },
  "cells": [
    {
      "cell_type": "code",
      "metadata": {
        "id": "h20IV3SFT7GI",
        "colab": {
          "base_uri": "https://localhost:8080/"
        },
        "outputId": "82e856b1-d654-47c9-f684-f897da6826fa"
      },
      "source": [
        "import pandas as pd\n",
        "path ='/content/drive/MyDrive/amazon_reviews_us_Musical_Instruments_v1_00.tsv.gz'\n",
        "df = pd.read_table(path, error_bad_lines=False)"
      ],
      "execution_count": 1,
      "outputs": [
        {
          "output_type": "stream",
          "text": [
            "b'Skipping line 5782: expected 15 fields, saw 22\\nSkipping line 31979: expected 15 fields, saw 22\\nSkipping line 32408: expected 15 fields, saw 22\\nSkipping line 45709: expected 15 fields, saw 22\\nSkipping line 64585: expected 15 fields, saw 22\\n'\n",
            "b'Skipping line 115742: expected 15 fields, saw 22\\nSkipping line 125537: expected 15 fields, saw 22\\nSkipping line 127580: expected 15 fields, saw 22\\nSkipping line 128696: expected 15 fields, saw 22\\n'\n",
            "b'Skipping line 143851: expected 15 fields, saw 22\\nSkipping line 147069: expected 15 fields, saw 22\\nSkipping line 149233: expected 15 fields, saw 22\\nSkipping line 167536: expected 15 fields, saw 22\\nSkipping line 168535: expected 15 fields, saw 22\\nSkipping line 171659: expected 15 fields, saw 22\\nSkipping line 184533: expected 15 fields, saw 22\\nSkipping line 184624: expected 15 fields, saw 22\\nSkipping line 184908: expected 15 fields, saw 22\\n'\n",
            "b'Skipping line 219150: expected 15 fields, saw 22\\nSkipping line 223178: expected 15 fields, saw 22\\nSkipping line 234333: expected 15 fields, saw 22\\nSkipping line 256242: expected 15 fields, saw 22\\n'\n",
            "b'Skipping line 268157: expected 15 fields, saw 22\\nSkipping line 276191: expected 15 fields, saw 22\\nSkipping line 277091: expected 15 fields, saw 22\\nSkipping line 288516: expected 15 fields, saw 22\\nSkipping line 289901: expected 15 fields, saw 22\\nSkipping line 292922: expected 15 fields, saw 22\\nSkipping line 308964: expected 15 fields, saw 22\\nSkipping line 325233: expected 15 fields, saw 22\\n'\n",
            "b'Skipping line 354051: expected 15 fields, saw 22\\nSkipping line 360552: expected 15 fields, saw 22\\nSkipping line 362489: expected 15 fields, saw 22\\nSkipping line 383798: expected 15 fields, saw 22\\nSkipping line 392390: expected 15 fields, saw 22\\n'\n",
            "b'Skipping line 456105: expected 15 fields, saw 22\\n'\n"
          ],
          "name": "stderr"
        }
      ]
    },
    {
      "cell_type": "code",
      "metadata": {
        "id": "QIZeQTKOQIZf"
      },
      "source": [
        "n = len(df)"
      ],
      "execution_count": 2,
      "outputs": []
    },
    {
      "cell_type": "code",
      "metadata": {
        "id": "hMTipGRfPd7P"
      },
      "source": [
        "import collections\n",
        "itemsPerUser = collections.defaultdict(list)\n",
        "usersPerItem = collections.defaultdict(list)\n",
        "\n",
        "for i in range(n):\n",
        "  user,item = df['customer_id'][i],df['product_id'][i]\n",
        "  itemsPerUser[user].append((item,i))\n",
        "  usersPerItem[item].append((user,i))"
      ],
      "execution_count": 3,
      "outputs": []
    },
    {
      "cell_type": "code",
      "metadata": {
        "id": "vT3HbT5gQMU0"
      },
      "source": [
        "average = sum([df['star_rating'][i] for i in range(n)])/n"
      ],
      "execution_count": 4,
      "outputs": []
    },
    {
      "cell_type": "code",
      "metadata": {
        "id": "peOvAmJbXJuN"
      },
      "source": [
        "labels = [df['star_rating'][i] for i in range(n)]"
      ],
      "execution_count": 5,
      "outputs": []
    },
    {
      "cell_type": "code",
      "metadata": {
        "id": "wv8EibSQQQhR"
      },
      "source": [
        "users = itemsPerUser.keys()\n",
        "items = usersPerItem.keys()\n",
        "nUsers = len(users)\n",
        "nItems = len(items)"
      ],
      "execution_count": 6,
      "outputs": []
    },
    {
      "cell_type": "code",
      "metadata": {
        "id": "IE2XAQUeQjtj"
      },
      "source": [
        "alpha = average\n",
        "betaUser = collections.defaultdict(float)\n",
        "betaItem = collections.defaultdict(float)"
      ],
      "execution_count": 7,
      "outputs": []
    },
    {
      "cell_type": "code",
      "metadata": {
        "id": "LuUd0FPSK0H1"
      },
      "source": [
        "def MSE(predictions,label):\n",
        "  error = sum([(x-y)**2 for x,y in zip(predictions,label)])\n",
        "  return error/len(labels)"
      ],
      "execution_count": 8,
      "outputs": []
    },
    {
      "cell_type": "code",
      "metadata": {
        "id": "L1wREm0iRbz-"
      },
      "source": [
        "def predict(user,item):\n",
        "  return alpha+betaUser[user]+betaItem[item]"
      ],
      "execution_count": 9,
      "outputs": []
    },
    {
      "cell_type": "code",
      "metadata": {
        "id": "fJ4vU2lKR19P"
      },
      "source": [
        "def unpack(theta):\n",
        "  global alpha\n",
        "  global betaUser\n",
        "  global betaItem\n",
        "  alpha = theta[0]\n",
        "  betaUser = dict(zip(users,theta[1:nUsers+1]))\n",
        "  betaItem = dict(zip(items,theta[nUsers+ 1: ]))"
      ],
      "execution_count": 10,
      "outputs": []
    },
    {
      "cell_type": "code",
      "metadata": {
        "id": "5E8YFNmxRFhk"
      },
      "source": [
        "def cost(theta,lamda,labels):\n",
        "  unpack(theta)\n",
        "  predicitons = [predict (df['customer_id'][i], df['product_id'][i]) for i in range(n) ]\n",
        "  cost = MSE(predicitons,labels)\n",
        "  print(cost)\n",
        "  for i in users:\n",
        "    cost+= lamda*(betaUser[i]**2)\n",
        "  for j in items:\n",
        "    cost+= lamda*(betaItem[j]**2)\n",
        "  return cost"
      ],
      "execution_count": 11,
      "outputs": []
    },
    {
      "cell_type": "code",
      "metadata": {
        "id": "sNJsVXQThZDj"
      },
      "source": [
        "import numpy as np\n",
        "def derivate(theta,lamda,labels):\n",
        "  unpack(theta)\n",
        "  daplha = 0\n",
        "  dBetaUser = collections.defaultdict(float)\n",
        "  dBetaItem = collections.defaultdict(float)\n",
        "  for i in range(n):\n",
        "    user,item = df['customer_id'][i],df['product_id'][i]\n",
        "    prediction = predict(user,item)\n",
        "    diff = prediction-df['star_rating'][i]\n",
        "    daplha += 2/n*diff\n",
        "    dBetaUser[user]+=2/n*diff\n",
        "    dBetaItem[item]+=2/n*diff\n",
        "  for us in users:\n",
        "    dBetaUser[us]+=2*lamda*betaUser[us]\n",
        "  for it in items:\n",
        "    dBetaItem[it]+=2*lamda*betaItem[it]\n",
        "  dtheta = [daplha]+[dBetaUser[i] for i in users] + [dBetaItem[i] for i in items]\n",
        "  return np.array(dtheta) "
      ],
      "execution_count": 12,
      "outputs": []
    },
    {
      "cell_type": "code",
      "metadata": {
        "colab": {
          "base_uri": "https://localhost:8080/"
        },
        "id": "mmvTtgqgGmsn",
        "outputId": "69312da0-5db5-4bc6-811b-539f4f06bb5b"
      },
      "source": [
        "from scipy import optimize\n",
        "optimize.fmin_l_bfgs_b(func = cost, x0 = [average]+[0.0]*(nUsers+nItems),fprime = derivate,args= (0.01,labels))"
      ],
      "execution_count": 14,
      "outputs": [
        {
          "output_type": "stream",
          "text": [
            "1.4796817958151918\n",
            "1.4687530422718669\n",
            "1.50136599773868\n",
            "1.469178608433825\n",
            "1.473510231463674\n",
            "1.4734745246098198\n",
            "1.4734041525744686\n"
          ],
          "name": "stdout"
        },
        {
          "output_type": "execute_result",
          "data": {
            "text/plain": [
              "(array([ 4.24912003e+00, -1.38068220e-04,  5.79785117e-04, ...,\n",
              "         8.29433475e-05, -2.20507029e-04, -2.75262418e-05]),\n",
              " 1.4764214008348497,\n",
              " {'funcalls': 7,\n",
              "  'grad': array([-1.85488594e-06,  2.71922809e-09, -1.07298707e-08, ...,\n",
              "         -1.64628186e-09,  4.08671817e-09,  5.01438362e-10]),\n",
              "  'nit': 5,\n",
              "  'task': b'CONVERGENCE: NORM_OF_PROJECTED_GRADIENT_<=_PGTOL',\n",
              "  'warnflag': 0})"
            ]
          },
          "metadata": {
            "tags": []
          },
          "execution_count": 14
        }
      ]
    }
  ]
}